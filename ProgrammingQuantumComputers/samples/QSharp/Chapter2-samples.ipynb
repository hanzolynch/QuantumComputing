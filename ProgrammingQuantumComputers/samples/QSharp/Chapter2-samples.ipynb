{
 "cells": [
  {
   "cell_type": "markdown",
   "metadata": {},
   "source": [
    "![(book cover)](https://covers.oreillystatic.com/images/0636920167433/cat.gif \"(book cover)\")\n",
    "# \"Programming Quantum Computers\" by O'Reilly Media -  [book info](http://shop.oreilly.com/product/0636920167433.do)  - [all code samples](https://oreilly-qc.github.io)\n",
    "\n",
    "## Code samples for Chapter 2\n",
    "These code samples were written by Andres Paz and Mariia Mykhailova."
   ]
  },
  {
   "cell_type": "markdown",
   "metadata": {},
   "source": [
    "### Example 2-1: Random bit"
   ]
  },
  {
   "cell_type": "code",
   "execution_count": 1,
   "metadata": {},
   "outputs": [
    {
     "data": {
      "application/json": "[\"RandomBit\"]",
      "text/html": [
       "<ul><li>RandomBit</li></ul>"
      ],
      "text/plain": [
       "RandomBit"
      ]
     },
     "execution_count": 1,
     "metadata": {},
     "output_type": "execute_result"
    }
   ],
   "source": [
    "// Example 2-1: Random bit\n",
    "\n",
    "operation RandomBit () : Unit {\n",
    "    // allocate one qubit\n",
    "    using (q = Qubit()) {\n",
    "        // put it into superposition of 0 and 1\n",
    "        H(q);\n",
    "\n",
    "        // measure the qubit and store the result\n",
    "        let bit = M(q);\n",
    "        \n",
    "        // make sure the qubit is back to the 0 state\n",
    "        Reset(q);\n",
    "        \n",
    "        Message($\"{bit}\");\n",
    "    }\n",
    "}"
   ]
  },
  {
   "cell_type": "code",
   "execution_count": 2,
   "metadata": {
    "scrolled": true
   },
   "outputs": [
    {
     "name": "stdout",
     "output_type": "stream",
     "text": [
      "One\n"
     ]
    },
    {
     "data": {
      "application/json": "{\"@type\":\"tuple\"}",
      "text/plain": [
       "()"
      ]
     },
     "execution_count": 2,
     "metadata": {},
     "output_type": "execute_result"
    }
   ],
   "source": [
    "%simulate RandomBit"
   ]
  },
  {
   "cell_type": "markdown",
   "metadata": {},
   "source": [
    "### Example 2-2: Random byte"
   ]
  },
  {
   "cell_type": "code",
   "execution_count": 3,
   "metadata": {},
   "outputs": [
    {
     "data": {
      "application/json": "[\"RandomByte\"]",
      "text/html": [
       "<ul><li>RandomByte</li></ul>"
      ],
      "text/plain": [
       "RandomByte"
      ]
     },
     "execution_count": 3,
     "metadata": {},
     "output_type": "execute_result"
    }
   ],
   "source": [
    "// Example 2-2: Random byte\n",
    "\n",
    "// open namespace which defines arithmetic operations\n",
    "open Microsoft.Quantum.Arithmetic;\n",
    "\n",
    "operation RandomByte () : Unit {\n",
    "    // allocate 8 qubits\n",
    "    using (qs = Qubit[8]) {\n",
    "        // put each qubit into superposition of 0 and 1\n",
    "        ApplyToEach(H, qs);\n",
    "\n",
    "        // measure the register and store the result\n",
    "        let randomByte = MeasureInteger(LittleEndian(qs));\n",
    "        \n",
    "        // make sure the qubits are back to the 0 state\n",
    "        ResetAll(qs);\n",
    "        \n",
    "        Message($\"{randomByte}\");\n",
    "    }\n",
    "}"
   ]
  },
  {
   "cell_type": "code",
   "execution_count": 4,
   "metadata": {
    "scrolled": true
   },
   "outputs": [
    {
     "name": "stdout",
     "output_type": "stream",
     "text": [
      "162\n"
     ]
    },
    {
     "data": {
      "application/json": "{\"@type\":\"tuple\"}",
      "text/plain": [
       "()"
      ]
     },
     "execution_count": 4,
     "metadata": {},
     "output_type": "execute_result"
    }
   ],
   "source": [
    "%simulate RandomByte"
   ]
  },
  {
   "cell_type": "markdown",
   "metadata": {},
   "source": [
    "### Example 2-3: Root-of-NOT"
   ]
  },
  {
   "cell_type": "code",
   "execution_count": 5,
   "metadata": {},
   "outputs": [
    {
     "data": {
      "application/json": "[\"RunSqrtNOT\",\"SqrtNOT\"]",
      "text/html": [
       "<ul><li>RunSqrtNOT</li><li>SqrtNOT</li></ul>"
      ],
      "text/plain": [
       "RunSqrtNOT, SqrtNOT"
      ]
     },
     "execution_count": 5,
     "metadata": {},
     "output_type": "execute_result"
    }
   ],
   "source": [
    "// Example 2-3: Root-of-NOT\n",
    "\n",
    "open Microsoft.Quantum.Diagnostics;\n",
    "\n",
    "operation SqrtNOT (q : Qubit) : Unit {\n",
    "    H(q);\n",
    "    S(q);\n",
    "    H(q);\n",
    "}\n",
    "\n",
    "operation RunSqrtNOT () : Unit {\n",
    "    // allocate a qubit\n",
    "    using (q = Qubit()) {\n",
    "        // apply SqrtNOT gate to the |0⟩ state\n",
    "        SqrtNOT(q);\n",
    "        Message(\"Qubit state after the first application of SqrtNOT\");\n",
    "        DumpMachine();\n",
    "\n",
    "        // apply SqrtNOT gate again and verify that the qubit ends up in the |1⟩ state\n",
    "        SqrtNOT(q);\n",
    "        Message(\"Qubit state after the second application of SqrtNOT\");\n",
    "        DumpMachine();\n",
    "        \n",
    "        // make sure the qubit is back to the 0 state\n",
    "        Reset(q);\n",
    "    }\n",
    "}"
   ]
  },
  {
   "cell_type": "code",
   "execution_count": 6,
   "metadata": {
    "scrolled": true
   },
   "outputs": [
    {
     "name": "stdout",
     "output_type": "stream",
     "text": [
      "Qubit state after the first application of SqrtNOT\n"
     ]
    },
    {
     "data": {
      "application/json": "{\"QubitIds\":[0],\"NQubits\":1,\"Amplitudes\":[{\"Real\":0.5000000000000001,\"Imaginary\":0.5000000000000001,\"Magnitude\":0.7071067811865477,\"Phase\":0.7853981633974483},{\"Real\":0.5000000000000001,\"Imaginary\":-0.5000000000000001,\"Magnitude\":0.7071067811865477,\"Phase\":-0.7853981633974483}]}",
      "text/html": [
       "\r\n",
       "                    <table style=\"table-layout: fixed; width: 100%\">\r\n",
       "                        <thead>\r\n",
       "                            \r\n",
       "                        <tr>\r\n",
       "                            <th>Qubit IDs</th>\r\n",
       "                            <td span=\"3\">0</td>\r\n",
       "                        </tr>\r\n",
       "                    \r\n",
       "                            <tr>\r\n",
       "                                <th style=\"width: 20ch)\">Basis state (little endian)</th>\r\n",
       "                                <th style=\"width: 20ch\">Amplitude</th>\r\n",
       "                                <th style=\"width: calc(100% - 26ch - 20ch)\">Meas. Pr.</th>\r\n",
       "                                <th style=\"width: 6ch\">Phase</th>\r\n",
       "                            </tr>\r\n",
       "                        </thead>\r\n",
       "\r\n",
       "                        <tbody>\r\n",
       "                            \r\n",
       "                            <tr>\r\n",
       "                                <td>$\\left|0\\right\\rangle$</td>\r\n",
       "                                <td>$0.5000 + 0.5000 i$</td>\r\n",
       "                                <td>\r\n",
       "                                    <progress\r\n",
       "                                        max=\"100\"\r\n",
       "                                        value=\"50.00000000000002\"\r\n",
       "                                        style=\"width: 100%;\"\r\n",
       "                                    >\r\n",
       "                                </td>\r\n",
       "                                <td style=\"transform: rotate(45deg);\r\n",
       "                   text-align: center;\">\r\n",
       "                                    ↑\r\n",
       "                                </td>\r\n",
       "                            </tr>\r\n",
       "                        \n",
       "\r\n",
       "                            <tr>\r\n",
       "                                <td>$\\left|1\\right\\rangle$</td>\r\n",
       "                                <td>$0.5000  -0.5000 i$</td>\r\n",
       "                                <td>\r\n",
       "                                    <progress\r\n",
       "                                        max=\"100\"\r\n",
       "                                        value=\"50.00000000000002\"\r\n",
       "                                        style=\"width: 100%;\"\r\n",
       "                                    >\r\n",
       "                                </td>\r\n",
       "                                <td style=\"transform: rotate(-45deg);\r\n",
       "                   text-align: center;\">\r\n",
       "                                    ↑\r\n",
       "                                </td>\r\n",
       "                            </tr>\r\n",
       "                        \r\n",
       "                        </tbody>\r\n",
       "                    </table>\r\n",
       "                "
      ],
      "text/plain": [
       "|0⟩\t0.5000000000000001 + 0.5000000000000001𝑖\n",
       "|1⟩\t0.5000000000000001 + -0.5000000000000001𝑖"
      ]
     },
     "metadata": {},
     "output_type": "display_data"
    },
    {
     "name": "stdout",
     "output_type": "stream",
     "text": [
      "Qubit state after the second application of SqrtNOT\n"
     ]
    },
    {
     "data": {
      "application/json": "{\"QubitIds\":[0],\"NQubits\":1,\"Amplitudes\":[{\"Real\":1.232595164407831E-32,\"Imaginary\":-1.232595164407831E-32,\"Magnitude\":1.7431527984210495E-32,\"Phase\":-0.7853981633974483},{\"Real\":1.0000000000000004,\"Imaginary\":-1.232595164407831E-32,\"Magnitude\":1.0000000000000004,\"Phase\":-1.2325951644078304E-32}]}",
      "text/html": [
       "\r\n",
       "                    <table style=\"table-layout: fixed; width: 100%\">\r\n",
       "                        <thead>\r\n",
       "                            \r\n",
       "                        <tr>\r\n",
       "                            <th>Qubit IDs</th>\r\n",
       "                            <td span=\"3\">0</td>\r\n",
       "                        </tr>\r\n",
       "                    \r\n",
       "                            <tr>\r\n",
       "                                <th style=\"width: 20ch)\">Basis state (little endian)</th>\r\n",
       "                                <th style=\"width: 20ch\">Amplitude</th>\r\n",
       "                                <th style=\"width: calc(100% - 26ch - 20ch)\">Meas. Pr.</th>\r\n",
       "                                <th style=\"width: 6ch\">Phase</th>\r\n",
       "                            </tr>\r\n",
       "                        </thead>\r\n",
       "\r\n",
       "                        <tbody>\r\n",
       "                            \r\n",
       "                            <tr>\r\n",
       "                                <td>$\\left|0\\right\\rangle$</td>\r\n",
       "                                <td>$0.0000  -0.0000 i$</td>\r\n",
       "                                <td>\r\n",
       "                                    <progress\r\n",
       "                                        max=\"100\"\r\n",
       "                                        value=\"3.0385816786431365E-62\"\r\n",
       "                                        style=\"width: 100%;\"\r\n",
       "                                    >\r\n",
       "                                </td>\r\n",
       "                                <td style=\"transform: rotate(-45deg);\r\n",
       "                   text-align: center;\">\r\n",
       "                                    ↑\r\n",
       "                                </td>\r\n",
       "                            </tr>\r\n",
       "                        \n",
       "\r\n",
       "                            <tr>\r\n",
       "                                <td>$\\left|1\\right\\rangle$</td>\r\n",
       "                                <td>$1.0000  -0.0000 i$</td>\r\n",
       "                                <td>\r\n",
       "                                    <progress\r\n",
       "                                        max=\"100\"\r\n",
       "                                        value=\"100.00000000000009\"\r\n",
       "                                        style=\"width: 100%;\"\r\n",
       "                                    >\r\n",
       "                                </td>\r\n",
       "                                <td style=\"transform: rotate(-7.06225007688025E-31deg);\r\n",
       "                   text-align: center;\">\r\n",
       "                                    ↑\r\n",
       "                                </td>\r\n",
       "                            </tr>\r\n",
       "                        \r\n",
       "                        </tbody>\r\n",
       "                    </table>\r\n",
       "                "
      ],
      "text/plain": [
       "|0⟩\t1.232595164407831E-32 + -1.232595164407831E-32𝑖\n",
       "|1⟩\t1.0000000000000004 + -1.232595164407831E-32𝑖"
      ]
     },
     "metadata": {},
     "output_type": "display_data"
    },
    {
     "data": {
      "application/json": "{\"@type\":\"tuple\"}",
      "text/plain": [
       "()"
      ]
     },
     "execution_count": 6,
     "metadata": {},
     "output_type": "execute_result"
    }
   ],
   "source": [
    "%simulate RunSqrtNOT"
   ]
  },
  {
   "cell_type": "markdown",
   "metadata": {},
   "source": [
    "### Example 2-4: Quantum Spy Hunter"
   ]
  },
  {
   "cell_type": "code",
   "execution_count": 7,
   "metadata": {
    "scrolled": true
   },
   "outputs": [
    {
     "data": {
      "application/json": "[\"GetRangomBit\",\"RunSpyHuntingProtocol\",\"TryCatchASpy\"]",
      "text/html": [
       "<ul><li>GetRangomBit</li><li>RunSpyHuntingProtocol</li><li>TryCatchASpy</li></ul>"
      ],
      "text/plain": [
       "GetRangomBit, RunSpyHuntingProtocol, TryCatchASpy"
      ]
     },
     "execution_count": 7,
     "metadata": {},
     "output_type": "execute_result"
    }
   ],
   "source": [
    "// Example 2-4: Quantum Spy Hunter\n",
    "\n",
    "open Microsoft.Quantum.Diagnostics;\n",
    "open Microsoft.Quantum.Measurement;\n",
    "\n",
    "operation GetRangomBit () : Bool {\n",
    "    using (q = Qubit()) {\n",
    "        H(q);\n",
    "        return MResetZ(q) == One;\n",
    "    }\n",
    "}\n",
    "\n",
    "// operation that performs the spy hunting protocol, including spy simulation if necessary\n",
    "operation TryCatchASpy (spyPresent : Bool, spyAppliesH : Bool) : Bool {\n",
    "    using ((a, fiber, b) = (Qubit(), Qubit(), Qubit())) {\n",
    "        // generate two random bits\n",
    "        let (sendApplyH, sendValue) = (GetRangomBit(), GetRangomBit());\n",
    "        \n",
    "        // prepare Alice's qubit\n",
    "        if (sendValue) {\n",
    "            X(a);\n",
    "        }\n",
    "        if (sendApplyH) {\n",
    "            H(a);\n",
    "        }\n",
    "        \n",
    "        // send the qubit!\n",
    "        SWAP(fiber, a);\n",
    "        \n",
    "        // activate the spy\n",
    "        if (spyPresent) {\n",
    "            if (spyAppliesH) {\n",
    "                H(fiber);\n",
    "            }\n",
    "            let stolenData = M(fiber);\n",
    "            if (spyAppliesH) {\n",
    "                H(fiber);\n",
    "            }\n",
    "        }\n",
    "        \n",
    "        // receive the qubit!\n",
    "        let receiveApplyH = GetRangomBit();\n",
    "        SWAP(fiber, b);\n",
    "        if (receiveApplyH) {\n",
    "            H(b);\n",
    "        }\n",
    "        let receiveValue = (M(b) == One);\n",
    "        \n",
    "        // make sure all qubits are back to the 0 state\n",
    "        ResetAll([a, fiber, b]);\n",
    "        \n",
    "        // Alice emails Bob to tell him her choice of operations and value.\n",
    "        // If the choice matches and the value does not, there's a spy!\n",
    "        return (sendApplyH == receiveApplyH) and (sendValue != receiveValue);\n",
    "    }\n",
    "}\n",
    "\n",
    "operation RunSpyHuntingProtocol () : Unit {\n",
    "    let spyPresent = true;\n",
    "    let spyAppliesH = false;\n",
    "    Message($\"Settings: spy {spyPresent ? \"\" | \"not \"}present\" + \n",
    "            (spyPresent ? $\", spy {spyAppliesH ? \"applies H\" | \"does not apply H\"}\" | \"\"));\n",
    "    let nAttempts = 1000;\n",
    "    mutable nCaught = 0;\n",
    "    for (i in 1 .. nAttempts) {\n",
    "        if (TryCatchASpy(spyPresent, spyAppliesH)) {\n",
    "            set nCaught += 1;\n",
    "        }\n",
    "    }\n",
    "    Message($\"Caught the spy in {nCaught} out of {nAttempts} attempts\");\n",
    "}"
   ]
  },
  {
   "cell_type": "code",
   "execution_count": 8,
   "metadata": {
    "scrolled": false
   },
   "outputs": [
    {
     "name": "stdout",
     "output_type": "stream",
     "text": [
      "Settings: spy present, spy does not apply H\n",
      "Caught the spy in 157 out of 1000 attempts\n"
     ]
    },
    {
     "data": {
      "application/json": "{\"@type\":\"tuple\"}",
      "text/plain": [
       "()"
      ]
     },
     "execution_count": 8,
     "metadata": {},
     "output_type": "execute_result"
    }
   ],
   "source": [
    "%simulate RunSpyHuntingProtocol"
   ]
  }
 ],
 "metadata": {
  "kernelspec": {
   "display_name": "Q#",
   "language": "qsharp",
   "name": "iqsharp"
  },
  "language_info": {
   "file_extension": ".qs",
   "mimetype": "text/x-qsharp",
   "name": "qsharp",
   "version": "0.4"
  }
 },
 "nbformat": 4,
 "nbformat_minor": 2
}
